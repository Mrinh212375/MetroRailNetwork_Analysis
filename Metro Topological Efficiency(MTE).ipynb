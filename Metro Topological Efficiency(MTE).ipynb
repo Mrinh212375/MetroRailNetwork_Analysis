{
 "cells": [
  {
   "cell_type": "markdown",
   "id": "656d07f8",
   "metadata": {},
   "source": [
    "Importing required Libraries and initializing variable SUM"
   ]
  },
  {
   "cell_type": "code",
   "execution_count": 11,
   "id": "aba2fdff",
   "metadata": {},
   "outputs": [],
   "source": [
    "import pandas as pd\n",
    "import networkx as nx\n",
    "import numpy as np\n",
    "from array import array\n",
    "import math as m\n",
    "import matplotlib.pyplot as plt\n",
    "sum=0"
   ]
  },
  {
   "cell_type": "markdown",
   "id": "ccc1a758",
   "metadata": {},
   "source": [
    "Loading the CSV file to create adjacency Matrix"
   ]
  },
  {
   "cell_type": "code",
   "execution_count": 12,
   "id": "9745715d",
   "metadata": {},
   "outputs": [],
   "source": [
    "data=pd.read_csv(\"kolkata_for_adjmatrix.csv\")       # loading dataset\n",
    "edgeList = data.values.tolist()                     # creating list of edges\n",
    "G = nx.DiGraph()                                    # using networkx package to create Directed Graph\n",
    "for i in range(len(edgeList)):\n",
    "    G.add_edge(edgeList[i][0], edgeList[i][1])      # adding edges as per edgelist to the graph\n",
    "graph = nx.adjacency_matrix(G).A                    #creating an adjacency matrix using networkx and storing it to graph variable"
   ]
  },
  {
   "cell_type": "code",
   "execution_count": 13,
   "id": "27b3bfd7",
   "metadata": {},
   "outputs": [
    {
     "data": {
      "text/plain": [
       "array([[0, 1, 0, ..., 0, 0, 0],\n",
       "       [0, 0, 1, ..., 0, 0, 0],\n",
       "       [0, 0, 0, ..., 0, 0, 0],\n",
       "       ...,\n",
       "       [0, 0, 0, ..., 0, 1, 0],\n",
       "       [0, 0, 0, ..., 0, 0, 1],\n",
       "       [0, 0, 0, ..., 0, 0, 0]], dtype=int32)"
      ]
     },
     "execution_count": 13,
     "metadata": {},
     "output_type": "execute_result"
    }
   ],
   "source": [
    "graph      #printing adjacency Matrix"
   ]
  },
  {
   "cell_type": "code",
   "execution_count": 14,
   "id": "9162423b",
   "metadata": {},
   "outputs": [
    {
     "data": {
      "text/plain": [
       "89"
      ]
     },
     "execution_count": 14,
     "metadata": {},
     "output_type": "execute_result"
    }
   ],
   "source": [
    "len(graph)    # printing number of nodes or stations in the graph"
   ]
  },
  {
   "cell_type": "code",
   "execution_count": 15,
   "id": "91162cc0",
   "metadata": {},
   "outputs": [
    {
     "data": {
      "image/png": "[encoded data removed]",
      "text/plain": [
       "<Figure size 432x288 with 1 Axes>"
      ]
     },
     "metadata": {},
     "output_type": "display_data"
    }
   ],
   "source": [
    "nx.draw(G)    # small snapshot of the network"
   ]
  },
  {
   "cell_type": "code",
   "execution_count": 16,
   "id": "4d669106",
   "metadata": {},
   "outputs": [
    {
     "name": "stdout",
     "output_type": "stream",
     "text": [
      "Metro Topological Efficiency is 0.0412231774131883\n"
     ]
    }
   ],
   "source": [
    "for i in range(len(graph)):\n",
    "    for j in range(len(graph)):\n",
    "        if (i != j):\n",
    "            count=0\n",
    "            for path in nx.all_simple_paths(G, source=i, target=j): #looping through each possible path between every pair of nodes\n",
    "                count=count+1\n",
    "            if(count == 0):   # If no path exist then continue to another pair of vertices\n",
    "                continue \n",
    "            else:\n",
    "                w = 1/count\n",
    "                d = nx.shortest_path_length(G,source=i,target=j)  # find out shortest path length between the corresponding pair\n",
    "                r=d*w                                             # scaling the shortest path length     \n",
    "                r_b=1/r\n",
    "                sum=sum+r_b\n",
    "R= len(graph)*(len(graph)-1)\n",
    "mte=sum/R\n",
    "print('Metro Topological Efficiency is',mte)"
   ]
  },
  {
   "cell_type": "raw",
   "id": "90d1c964",
   "metadata": {},
   "source": [
    "To compute MTE of different cities,just change the CSV file for the corresponding cities in the 1st line of 2nd Cell.\n",
    "For Kolkata -   \"kolkata_for_adjmatrix.csv\"\n",
    "For Delhi -     \"delhi_for_adjmatrix.csv\"\n",
    "For Hyderabad - \"hyderabad_for_adjmatrix.csv\"\n",
    "For Chennai -   \"chennai_for_adjmatrix.csv\"\n",
    "All these required files are present in the Zipped File"
   ]
  },
  {
   "cell_type": "code",
   "execution_count": null,
   "id": "66e2708d",
   "metadata": {},
   "outputs": [],
   "source": []
  }
 ],
 "metadata": {
  "kernelspec": {
   "display_name": "Python 3 (ipykernel)",
   "language": "python",
   "name": "python3"
  },
  "language_info": {
   "codemirror_mode": {
    "name": "ipython",
    "version": 3
   },
   "file_extension": ".py",
   "mimetype": "text/x-python",
   "name": "python",
   "nbconvert_exporter": "python",
   "pygments_lexer": "ipython3",
   "version": "3.9.7"
  }
 },
 "nbformat": 4,
 "nbformat_minor": 5
}
